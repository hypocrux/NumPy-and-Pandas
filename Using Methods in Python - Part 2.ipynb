{
 "cells": [
  {
   "cell_type": "code",
   "execution_count": 1,
   "id": "efebba53",
   "metadata": {},
   "outputs": [],
   "source": [
    "import pandas as pd"
   ]
  },
  {
   "cell_type": "code",
   "execution_count": 2,
   "id": "6106e8d2",
   "metadata": {},
   "outputs": [],
   "source": [
    "start_date_deposits = pd.Series({\n",
    "    '7/4/2014'    : 2000,\n",
    "    '1/2/2015'    : 2000,\n",
    "    '12/8/2012'   : 1000,\n",
    "    '2/20/2015'   : 2000,\n",
    "    '10/28/2013'  : 2000,\n",
    "    '4/19/2015'   : 2000,\n",
    "    '7/4/2016'    : 2000,\n",
    "    '4/24/2014'   : 2000,\n",
    "    '9/3/2015'    : 4000,\n",
    "    '7/25/2016'   : 2000,\n",
    "    '5/1/2014'    : 2000,\n",
    "    '3/9/2013'    : 2000,\n",
    "    '10/3/2014'   : 2000,\n",
    "    '9/18/2015'   : 2500\n",
    "})"
   ]
  },
  {
   "cell_type": "code",
   "execution_count": 4,
   "id": "605727ab",
   "metadata": {},
   "outputs": [
    {
     "data": {
      "text/plain": [
       "7/4/2014      2000\n",
       "1/2/2015      2000\n",
       "12/8/2012     1000\n",
       "2/20/2015     2000\n",
       "10/28/2013    2000\n",
       "dtype: int64"
      ]
     },
     "execution_count": 4,
     "metadata": {},
     "output_type": "execute_result"
    }
   ],
   "source": [
    "start_date_deposits.head()"
   ]
  },
  {
   "cell_type": "code",
   "execution_count": 5,
   "id": "869623f5",
   "metadata": {},
   "outputs": [
    {
     "data": {
      "text/plain": [
       "7/25/2016    2000\n",
       "5/1/2014     2000\n",
       "3/9/2013     2000\n",
       "10/3/2014    2000\n",
       "9/18/2015    2500\n",
       "dtype: int64"
      ]
     },
     "execution_count": 5,
     "metadata": {},
     "output_type": "execute_result"
    }
   ],
   "source": [
    "start_date_deposits.tail()"
   ]
  }
 ],
 "metadata": {
  "kernelspec": {
   "display_name": "Python 3 (ipykernel)",
   "language": "python",
   "name": "python3"
  },
  "language_info": {
   "codemirror_mode": {
    "name": "ipython",
    "version": 3
   },
   "file_extension": ".py",
   "mimetype": "text/x-python",
   "name": "python",
   "nbconvert_exporter": "python",
   "pygments_lexer": "ipython3",
   "version": "3.9.13"
  }
 },
 "nbformat": 4,
 "nbformat_minor": 5
}
