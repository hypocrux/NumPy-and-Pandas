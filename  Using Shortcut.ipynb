{
 "cells": [
  {
   "cell_type": "markdown",
   "id": "692ff33b",
   "metadata": {},
   "source": [
    "# Jupyter - Using Shortcut "
   ]
  },
  {
   "cell_type": "code",
   "execution_count": 1,
   "id": "f2bccc7b",
   "metadata": {},
   "outputs": [
    {
     "name": "stdout",
     "output_type": "stream",
     "text": [
      "8\n"
     ]
    }
   ],
   "source": [
    "# The following program consists of two lines of code :\n",
    "x = 5 + 3\n",
    "print(x)"
   ]
  }
 ],
 "metadata": {
  "kernelspec": {
   "display_name": "Python 3 (ipykernel)",
   "language": "python",
   "name": "python3"
  },
  "language_info": {
   "codemirror_mode": {
    "name": "ipython",
    "version": 3
   },
   "file_extension": ".py",
   "mimetype": "text/x-python",
   "name": "python",
   "nbconvert_exporter": "python",
   "pygments_lexer": "ipython3",
   "version": "3.9.13"
  }
 },
 "nbformat": 4,
 "nbformat_minor": 5
}
