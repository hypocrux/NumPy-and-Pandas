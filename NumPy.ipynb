{
 "cells": [
  {
   "cell_type": "markdown",
   "id": "d5fbe154",
   "metadata": {},
   "source": [
    "# NumPy Basics "
   ]
  },
  {
   "cell_type": "markdown",
   "id": "ee029c2b",
   "metadata": {},
   "source": [
    "### Installing & Updating Package"
   ]
  },
  {
   "cell_type": "markdown",
   "id": "8157a391",
   "metadata": {},
   "source": [
    "NumPy comes pre-installed if you're using Anaconda. pip install numpy"
   ]
  },
  {
   "cell_type": "markdown",
   "id": "d77cb150",
   "metadata": {},
   "source": [
    "To get the latest version : pip install numpy --upgrade"
   ]
  },
  {
   "cell_type": "markdown",
   "id": "2454c5f5",
   "metadata": {},
   "source": [
    "### Importing NumPy "
   ]
  },
  {
   "cell_type": "code",
   "execution_count": 1,
   "id": "4fdeb32c",
   "metadata": {},
   "outputs": [],
   "source": [
    "import numpy as np"
   ]
  },
  {
   "cell_type": "markdown",
   "id": "ad556d02",
   "metadata": {},
   "source": [
    "### Using NumPy"
   ]
  },
  {
   "cell_type": "code",
   "execution_count": 2,
   "id": "9d872187",
   "metadata": {},
   "outputs": [],
   "source": [
    "array_a = np.array([1,2,3])"
   ]
  },
  {
   "cell_type": "code",
   "execution_count": 3,
   "id": "fb8095a6",
   "metadata": {},
   "outputs": [
    {
     "data": {
      "text/plain": [
       "array([1, 2, 3])"
      ]
     },
     "execution_count": 3,
     "metadata": {},
     "output_type": "execute_result"
    }
   ],
   "source": [
    "array_a"
   ]
  },
  {
   "cell_type": "code",
   "execution_count": 4,
   "id": "8eb22bc4",
   "metadata": {},
   "outputs": [
    {
     "data": {
      "text/plain": [
       "array([[1, 2, 3],\n",
       "       [4, 5, 6]])"
      ]
     },
     "execution_count": 4,
     "metadata": {},
     "output_type": "execute_result"
    }
   ],
   "source": [
    "array_b = np.array([[1,2,3], [4,5,6]])\n",
    "array_b"
   ]
  },
  {
   "cell_type": "code",
   "execution_count": null,
   "id": "28dc6ba7",
   "metadata": {},
   "outputs": [],
   "source": []
  }
 ],
 "metadata": {
  "kernelspec": {
   "display_name": "Python 3 (ipykernel)",
   "language": "python",
   "name": "python3"
  },
  "language_info": {
   "codemirror_mode": {
    "name": "ipython",
    "version": 3
   },
   "file_extension": ".py",
   "mimetype": "text/x-python",
   "name": "python",
   "nbconvert_exporter": "python",
   "pygments_lexer": "ipython3",
   "version": "3.9.13"
  }
 },
 "nbformat": 4,
 "nbformat_minor": 5
}
